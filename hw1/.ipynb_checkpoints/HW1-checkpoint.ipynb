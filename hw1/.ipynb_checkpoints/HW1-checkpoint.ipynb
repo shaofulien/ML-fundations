{
 "cells": [
  {
   "cell_type": "code",
   "execution_count": 1,
   "metadata": {},
   "outputs": [
    {
     "name": "stdout",
     "output_type": "stream",
     "text": [
      "45\n"
     ]
    }
   ],
   "source": [
    "#15\n",
    "import numpy as np\n",
    "import random\n",
    "data_raw = np.loadtxt('hw1_15_train.dat', dtype=float)\n",
    "label = data_raw[:,4]\n",
    "data_train = data_raw[:,0:4]\n",
    "x0 = np.ones((400,1))\n",
    "data_train = np.concatenate((data_train,x0),axis = 1 )\n",
    "ordered_list = range(data_train.shape[0])\n",
    "total_update = 0 \n",
    "update_counter = 0\n",
    "w = np.zeros((5))\n",
    "while True:\n",
    "\n",
    "        anyupadte = False\n",
    "        for i in ordered_list:\n",
    "            sign = np.dot(w,data_train[i])\n",
    "            if sign == 0:\n",
    "                sign = -1\n",
    "            if sign*label[i] <0:\n",
    "                w = w + label[i]*data_train[i]\n",
    "                update_counter = update_counter+1\n",
    "                anyupadte = True\n",
    "        if not anyupadte:\n",
    "            print update_counter\n",
    "            break    \n",
    "\n",
    "            "
   ]
  },
  {
   "cell_type": "code",
   "execution_count": 2,
   "metadata": {},
   "outputs": [
    {
     "name": "stdout",
     "output_type": "stream",
     "text": [
      "40\n"
     ]
    }
   ],
   "source": [
    "#16\n",
    "import numpy as np\n",
    "import random\n",
    "data_raw = np.loadtxt('hw1_15_train.dat', dtype=float)\n",
    "label = data_raw[:,4]\n",
    "data_train = data_raw[:,0:4]\n",
    "x0 = np.ones((400,1))\n",
    "data_train = np.concatenate((data_train,x0),axis = 1 )\n",
    "order_list = range(data_train.shape[0])\n",
    "total_update = 0 \n",
    "for i in range(2000):\n",
    "    update_counter = 0\n",
    "    w = np.zeros((5))\n",
    "    while True:\n",
    "        random.shuffle(order_list)\n",
    "        anyupadte = False\n",
    "        for i in order_list:\n",
    "            sign = np.dot(w,data_train[i])\n",
    "            if sign == 0:\n",
    "                sign = -1\n",
    "            if sign*label[i] <0:\n",
    "                w = w + label[i]*data_train[i]\n",
    "                update_counter = update_counter+1\n",
    "                anyupadte = True\n",
    "        if not anyupadte:\n",
    "            #print update_counter\n",
    "            break\n",
    "    total_update = total_update + update_counter\n",
    "print total_update/2000\n",
    "            \n"
   ]
  },
  {
   "cell_type": "code",
   "execution_count": 4,
   "metadata": {},
   "outputs": [
    {
     "name": "stdout",
     "output_type": "stream",
     "text": [
      "39\n"
     ]
    }
   ],
   "source": [
    "#17\n",
    "import numpy as np\n",
    "import random\n",
    "data_raw = np.loadtxt('hw1_15_train.dat', dtype=float)\n",
    "label = data_raw[:,4]\n",
    "data_train = data_raw[:,0:4]\n",
    "x0 = np.ones((400,1))\n",
    "data_train = np.concatenate((data_train,x0),axis = 1 )\n",
    "order_list = range(data_train.shape[0])\n",
    "total_update = 0 \n",
    "for i in range(2000):\n",
    "    update_counter = 0\n",
    "    w = np.zeros((5))\n",
    "    while True:\n",
    "        random.shuffle(order_list)\n",
    "        anyupadte = False\n",
    "        for i in order_list:\n",
    "            sign = np.dot(w,data_train[i])\n",
    "            if sign == 0:\n",
    "                sign = -1\n",
    "            if sign*label[i] <0:\n",
    "                w = w + 0.5*label[i]*data_train[i]\n",
    "                update_counter = update_counter+1\n",
    "                anyupadte = True\n",
    "        if not anyupadte:\n",
    "            #print update_counter\n",
    "            break\n",
    "    total_update = total_update + update_counter\n",
    "print total_update/2000\n",
    "            \n"
   ]
  },
  {
   "cell_type": "code",
   "execution_count": 176,
   "metadata": {},
   "outputs": [
    {
     "name": "stdout",
     "output_type": "stream",
     "text": [
      "0.132827\n"
     ]
    }
   ],
   "source": [
    "#18\n",
    "import numpy as np\n",
    "import random\n",
    "import sys\n",
    "\n",
    "\n",
    "def eval(w,data_train,label):\n",
    "    error = 0\n",
    "    for i in range(data_train.shape[0]):\n",
    "        sign = np.dot(w,data_train[i])\n",
    "        if sign == 0:\n",
    "            sign = -1\n",
    "        if sign*label[i] <0: \n",
    "            error = error +1\n",
    "    return error\n",
    "        \n",
    "#load train data\n",
    "data_raw = np.loadtxt('hw1_18_train.dat', dtype=float)\n",
    "label = data_raw[:,4]\n",
    "data_train = data_raw[:,0:4]\n",
    "x0 = np.ones((data_train.shape[0],1))\n",
    "data_train = np.concatenate((data_train,x0),axis = 1 )\n",
    "order_list = range(data_train.shape[0])\n",
    "#load test data\n",
    "test_data_raw = np.loadtxt('hw1_18_test.dat', dtype=float)\n",
    "test_label = test_data_raw[:,4]\n",
    "test_data_train = test_data_raw[:,0:4]\n",
    "test_x0 = np.ones((test_data_train.shape[0],1))\n",
    "test_data_train = np.concatenate((test_data_train,test_x0),axis = 1 )\n",
    "test_order_list = range(test_data_train.shape[0])\n",
    "total_test_error = 0\n",
    "\n",
    "for i in range(2000):\n",
    "    #initialize weight\n",
    "    w = np.zeros((5))\n",
    "    w_pocket = np.zeros((5))\n",
    "    update_counter = 0\n",
    "    pucket_error_counter = sys.maxint\n",
    "    while update_counter<50:\n",
    "        #print update_counter\n",
    "        #anyupadte = False\n",
    "        error_counter = 0\n",
    "        i = random.randint(0,data_train.shape[0]-1)\n",
    "        sign = np.dot(w,data_train[i])\n",
    "        if sign == 0:\n",
    "            sign = -1\n",
    "        if sign*label[i] <0:\n",
    "            w = w + label[i]*data_train[i]\n",
    "            update_counter = update_counter + 1\n",
    "            error_counter = error_counter + 1 \n",
    "            if eval(w,data_train,label) < pucket_error_counter:\n",
    "                pucket_error_counter = eval(w,data_train,label)\n",
    "                w_pocket = w.copy()\n",
    "\n",
    "             \n",
    "\n",
    "\n",
    "    #print update_counter\n",
    "    test_error = 0\n",
    "    for i in test_order_list:\n",
    "        sign = np.dot(w_pocket,test_data_train[i])\n",
    "        if sign ==0:\n",
    "            sign = -1\n",
    "        if sign*test_label[i] <0:\n",
    "            test_error = test_error +1\n",
    "    test_error =  test_error/float(test_data_train.shape[0])\n",
    "    total_test_error = total_test_error + test_error\n",
    "            \n",
    "print total_test_error/2000\n"
   ]
  },
  {
   "cell_type": "code",
   "execution_count": 178,
   "metadata": {},
   "outputs": [
    {
     "name": "stdout",
     "output_type": "stream",
     "text": [
      "0.351767\n"
     ]
    }
   ],
   "source": [
    "#19\n",
    "import numpy as np\n",
    "import random\n",
    "import sys\n",
    "\n",
    "\n",
    "def eval(w,data_train,label):\n",
    "    error = 0\n",
    "    for i in range(data_train.shape[0]):\n",
    "        sign = np.dot(w,data_train[i])\n",
    "        if sign == 0:\n",
    "            sign = -1\n",
    "        if sign*label[i] <0: \n",
    "            error = error +1\n",
    "    return error\n",
    "        \n",
    "#load train data\n",
    "data_raw = np.loadtxt('hw1_18_train.dat', dtype=float)\n",
    "label = data_raw[:,4]\n",
    "data_train = data_raw[:,0:4]\n",
    "x0 = np.ones((data_train.shape[0],1))\n",
    "data_train = np.concatenate((data_train,x0),axis = 1 )\n",
    "order_list = range(data_train.shape[0])\n",
    "#load test data\n",
    "test_data_raw = np.loadtxt('hw1_18_test.dat', dtype=float)\n",
    "test_label = test_data_raw[:,4]\n",
    "test_data_train = test_data_raw[:,0:4]\n",
    "test_x0 = np.ones((test_data_train.shape[0],1))\n",
    "test_data_train = np.concatenate((test_data_train,test_x0),axis = 1 )\n",
    "test_order_list = range(test_data_train.shape[0])\n",
    "total_test_error = 0\n",
    "\n",
    "for i in range(2000):\n",
    "    #initialize weight\n",
    "    w = np.zeros((5))\n",
    "    w_pocket = np.zeros((5))\n",
    "    update_counter = 0\n",
    "    pucket_error_counter = sys.maxint\n",
    "    while update_counter<50:\n",
    "        #print update_counter\n",
    "        #anyupadte = False\n",
    "        error_counter = 0\n",
    "        i = random.randint(0,data_train.shape[0]-1)\n",
    "        sign = np.dot(w,data_train[i])\n",
    "        if sign == 0:\n",
    "            sign = -1\n",
    "        if sign*label[i] <0:\n",
    "            w = w + label[i]*data_train[i]\n",
    "            update_counter = update_counter + 1\n",
    "            error_counter = error_counter + 1 \n",
    "            if eval(w,data_train,label) < pucket_error_counter:\n",
    "                pucket_error_counter = eval(w,data_train,label)\n",
    "                w_pocket = w.copy()\n",
    "\n",
    "             \n",
    "\n",
    "\n",
    "    #print update_counter\n",
    "    test_error = 0\n",
    "    for i in test_order_list:\n",
    "        sign = np.dot(w,test_data_train[i])\n",
    "        if sign ==0:\n",
    "            sign = -1\n",
    "        if sign*test_label[i] <0:\n",
    "            test_error = test_error +1\n",
    "    test_error =  test_error/float(test_data_train.shape[0])\n",
    "    total_test_error = total_test_error + test_error\n",
    "            \n",
    "print total_test_error/2000"
   ]
  },
  {
   "cell_type": "code",
   "execution_count": 179,
   "metadata": {},
   "outputs": [
    {
     "name": "stdout",
     "output_type": "stream",
     "text": [
      "0.115684\n"
     ]
    }
   ],
   "source": [
    "#20\n",
    "import numpy as np\n",
    "import random\n",
    "import sys\n",
    "\n",
    "\n",
    "def eval(w,data_train,label):\n",
    "    error = 0\n",
    "    for i in range(data_train.shape[0]):\n",
    "        sign = np.dot(w,data_train[i])\n",
    "        if sign == 0:\n",
    "            sign = -1\n",
    "        if sign*label[i] <0: \n",
    "            error = error +1\n",
    "    return error\n",
    "        \n",
    "#load train data\n",
    "data_raw = np.loadtxt('hw1_18_train.dat', dtype=float)\n",
    "label = data_raw[:,4]\n",
    "data_train = data_raw[:,0:4]\n",
    "x0 = np.ones((data_train.shape[0],1))\n",
    "data_train = np.concatenate((data_train,x0),axis = 1 )\n",
    "order_list = range(data_train.shape[0])\n",
    "#load test data\n",
    "test_data_raw = np.loadtxt('hw1_18_test.dat', dtype=float)\n",
    "test_label = test_data_raw[:,4]\n",
    "test_data_train = test_data_raw[:,0:4]\n",
    "test_x0 = np.ones((test_data_train.shape[0],1))\n",
    "test_data_train = np.concatenate((test_data_train,test_x0),axis = 1 )\n",
    "test_order_list = range(test_data_train.shape[0])\n",
    "total_test_error = 0\n",
    "\n",
    "for i in range(2000):\n",
    "    #initialize weight\n",
    "    w = np.zeros((5))\n",
    "    w_pocket = np.zeros((5))\n",
    "    update_counter = 0\n",
    "    pucket_error_counter = sys.maxint\n",
    "    while update_counter<100:\n",
    "        #print update_counter\n",
    "        #anyupadte = False\n",
    "        error_counter = 0\n",
    "        i = random.randint(0,data_train.shape[0]-1)\n",
    "        sign = np.dot(w,data_train[i])\n",
    "        if sign == 0:\n",
    "            sign = -1\n",
    "        if sign*label[i] <0:\n",
    "            w = w + label[i]*data_train[i]\n",
    "            update_counter = update_counter + 1\n",
    "            error_counter = error_counter + 1 \n",
    "            if eval(w,data_train,label) < pucket_error_counter:\n",
    "                pucket_error_counter = eval(w,data_train,label)\n",
    "                w_pocket = w.copy()\n",
    "\n",
    "             \n",
    "\n",
    "\n",
    "    #print update_counter\n",
    "    test_error = 0\n",
    "    for i in test_order_list:\n",
    "        sign = np.dot(w_pocket,test_data_train[i])\n",
    "        if sign ==0:\n",
    "            sign = -1\n",
    "        if sign*test_label[i] <0:\n",
    "            test_error = test_error +1\n",
    "    test_error =  test_error/float(test_data_train.shape[0])\n",
    "    total_test_error = total_test_error + test_error\n",
    "            \n",
    "print total_test_error/2000"
   ]
  },
  {
   "cell_type": "code",
   "execution_count": 9,
   "metadata": {},
   "outputs": [
    {
     "name": "stdout",
     "output_type": "stream",
     "text": [
      "40\n"
     ]
    }
   ],
   "source": [
    "#21\n",
    "import numpy as np\n",
    "import random\n",
    "data_raw = np.loadtxt('hw1_7_train.dat', dtype=float)\n",
    "label = data_raw[:,4]\n",
    "data_train = data_raw[:,0:4]\n",
    "x0 = np.ones((data_train.shape[0],1))\n",
    "data_train = np.concatenate((data_train,x0),axis = 1 )\n",
    "order_list = range(data_train.shape[0])\n",
    "total_update = 0 \n",
    "update_counter_global = np.array([])\n",
    "for i in range(1126):\n",
    "    update_counter = 0\n",
    "    w = np.zeros((5))\n",
    "    while True:\n",
    "        random.shuffle(order_list)\n",
    "        anyupadte = False\n",
    "        for i in order_list:\n",
    "            sign = np.dot(w,data_train[i])\n",
    "            if sign == 0:\n",
    "                sign = -1\n",
    "            if sign*label[i] <0:\n",
    "                w = w + label[i]*data_train[i]\n",
    "                update_counter = update_counter+1\n",
    "                anyupadte = True\n",
    "        if not anyupadte:\n",
    "            #print update_counter\n",
    "            break\n",
    "    update_counter_global = np.append(update_counter_global,update_counter)\n",
    "    total_update = total_update + update_counter\n",
    "print float(total_update/1126)\n",
    "            \n"
   ]
  },
  {
   "cell_type": "code",
   "execution_count": 10,
   "metadata": {},
   "outputs": [
    {
     "name": "stdout",
     "output_type": "stream",
     "text": [
      "(1126,)\n"
     ]
    },
    {
     "data": {
      "image/png": "[encoded data removed]",
      "text/plain": [
       "<Figure size 432x288 with 1 Axes>"
      ]
     },
     "metadata": {},
     "output_type": "display_data"
    }
   ],
   "source": [
    "from matplotlib import pyplot as plt \n",
    "print update_counter_global.shape\n",
    "#his,bins = np.histogram(update_counter_global , bins = range(200)) \n",
    "plt.hist(update_counter_global, bins =  range(100)) \n",
    "\n",
    "plt.show()"
   ]
  },
  {
   "cell_type": "code",
   "execution_count": null,
   "metadata": {},
   "outputs": [],
   "source": []
  }
 ],
 "metadata": {
  "kernelspec": {
   "display_name": "Python 2",
   "language": "python",
   "name": "python2"
  },
  "language_info": {
   "codemirror_mode": {
    "name": "ipython",
    "version": 2
   },
   "file_extension": ".py",
   "mimetype": "text/x-python",
   "name": "python",
   "nbconvert_exporter": "python",
   "pygments_lexer": "ipython2",
   "version": "2.7.15"
  }
 },
 "nbformat": 4,
 "nbformat_minor": 2
}
