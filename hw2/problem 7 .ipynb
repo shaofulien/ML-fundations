{
 "cells": [
  {
   "cell_type": "code",
   "execution_count": 7,
   "metadata": {},
   "outputs": [],
   "source": [
    "import numpy as np\n",
    "import math\n",
    "import random\n",
    "def generateData():\n",
    "    x = np.random.uniform(-1, 1, 20)\n",
    "    y = np.sign(x)\n",
    "    y[y == 0] = -1\n",
    "    prop = np.random.uniform(0, 1, 20)\n",
    "    y[prop >= 0.8] *= -1\n",
    "    return x, y"
   ]
  },
  {
   "cell_type": "code",
   "execution_count": 8,
   "metadata": {},
   "outputs": [],
   "source": [
    "def decision_stump(X, Y):\n",
    "    theta = np.sort(X)\n",
    "    theta1 = np.insert(theta,0,-1)\n",
    "    theta2 = np.append(theta,1)\n",
    "    a=theta2-theta1\n",
    "    a=a/2\n",
    "    theta1=theta1+np.abs(a)\n",
    "    maxerr=np.max\n",
    "    th=0\n",
    "    err1=0\n",
    "    for i in theta1:\n",
    "        err=0\n",
    "        for data,label in zip(X,Y):\n",
    "            if np.sign(data-i)!=np.sign(label):\n",
    "                err = err +1\n",
    "        if err<maxerr:\n",
    "            maxerr=err\n",
    "            th=i\n",
    "    return maxerr/20.0,th\n",
    "    \n",
    "  "
   ]
  },
  {
   "cell_type": "code",
   "execution_count": 9,
   "metadata": {},
   "outputs": [
    {
     "data": {
      "text/plain": [
       "(0.1, -0.4563433296911924)"
      ]
     },
     "execution_count": 9,
     "metadata": {},
     "output_type": "execute_result"
    }
   ],
   "source": [
    "X, Y = generateData()\n",
    "decision_stump(X, Y)"
   ]
  },
  {
   "cell_type": "code",
   "execution_count": 10,
   "metadata": {},
   "outputs": [
    {
     "name": "stdout",
     "output_type": "stream",
     "text": [
      "('E_in:', 0.1702999999999999)\n",
      "('E_out', 0.25741068886741986)\n"
     ]
    }
   ],
   "source": [
    "totalin = 0; totalout = 0\n",
    "his=[]\n",
    "for i in range(1000):\n",
    "    X, Y = generateData()\n",
    "    errin,theta = decision_stump(X, Y)\n",
    "    errout = 0.5+0.3*1*(math.fabs(theta)-1)\n",
    "    his.append(errin-errout)\n",
    "    totalin += errin\n",
    "    totalout += errout\n",
    "print(\"E_in:\", totalin/1000)\n",
    "print(\"E_out\", totalout/1000)\n"
   ]
  },
  {
   "cell_type": "code",
   "execution_count": 18,
   "metadata": {},
   "outputs": [
    {
     "data": {
      "image/png": "[encoded data removed]",
      "text/plain": [
       "<Figure size 432x288 with 1 Axes>"
      ]
     },
     "metadata": {},
     "output_type": "display_data"
    }
   ],
   "source": [
    "import matplotlib.pyplot as plt\n",
    "his = np.array(his)\n",
    "b=np.arange(-0.5,0.5,0.001)\n",
    "plt.hist(his,b)\n",
    "plt.show()\n"
   ]
  },
  {
   "cell_type": "code",
   "execution_count": 25,
   "metadata": {},
   "outputs": [
    {
     "data": {
      "image/png": "[encoded data removed]",
      "text/plain": [
       "<Figure size 432x288 with 1 Axes>"
      ]
     },
     "metadata": {},
     "output_type": "display_data"
    }
   ],
   "source": [
    "a=[1/(16),1/4,3/(16),3/4]\n",
    "plt.plot(a)\n",
    "plt.show()"
   ]
  },
  {
   "cell_type": "code",
   "execution_count": null,
   "metadata": {},
   "outputs": [],
   "source": []
  }
 ],
 "metadata": {
  "kernelspec": {
   "display_name": "Python 2",
   "language": "python",
   "name": "python2"
  },
  "language_info": {
   "codemirror_mode": {
    "name": "ipython",
    "version": 2
   },
   "file_extension": ".py",
   "mimetype": "text/x-python",
   "name": "python",
   "nbconvert_exporter": "python",
   "pygments_lexer": "ipython2",
   "version": "2.7.15"
  }
 },
 "nbformat": 4,
 "nbformat_minor": 2
}
